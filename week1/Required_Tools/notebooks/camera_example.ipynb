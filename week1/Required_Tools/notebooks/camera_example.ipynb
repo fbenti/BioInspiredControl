{
 "cells": [
  {
   "cell_type": "markdown",
   "metadata": {},
   "source": [
    "# Camera example\n",
    "## Detecting a green object\n",
    "\n"
   ]
  },
  {
   "cell_type": "code",
   "execution_count": null,
   "metadata": {},
   "outputs": [],
   "source": [
    "import camera_tools as ct"
   ]
  },
  {
   "cell_type": "markdown",
   "metadata": {},
   "source": [
    "To test the camera and object detection algorithm:"
   ]
  },
  {
   "cell_type": "code",
   "execution_count": null,
   "metadata": {},
   "outputs": [],
   "source": [
    "cam = ct.prepare_camera()\n",
    "\n",
    "ct.show_camera(cam)"
   ]
  },
  {
   "cell_type": "markdown",
   "metadata": {},
   "source": [
    "Press ESC to close the window.\n",
    "\n",
    "Example of how to grab an image and locate the largest green object:"
   ]
  },
  {
   "cell_type": "code",
   "execution_count": null,
   "metadata": {},
   "outputs": [],
   "source": [
    "cam = ct.prepare_camera()\n",
    "\n",
    "for _ in range(10):\n",
    "    img = ct.capture_image(cam)\n",
    "\n",
    "    x, y = ct.locate(img)\n",
    "\n",
    "    print(x, y)\n",
    "    \n",
    "cam.release()"
   ]
  },
  {
   "cell_type": "markdown",
   "metadata": {},
   "source": [
    "If `locate(img)` returns `None`, no green object was found. This can happen (for some cameras) in the first few frames, when the camera is adjusting the exposure.\n",
    "\n",
    "A solution to this is to wait until it stops returning `None` before printing the output. (Note that the below code never exits if no green object is found.)"
   ]
  },
  {
   "cell_type": "code",
   "execution_count": null,
   "metadata": {},
   "outputs": [],
   "source": [
    "cam = ct.prepare_camera()\n",
    "while True:\n",
    "    img = ct.capture_image(cam)\n",
    "    x, y = ct.locate(img)\n",
    "    if x is not None:\n",
    "        break\n",
    "print(\"Now the camera is done adjusting!\")\n",
    "\n",
    "for _ in range(10):\n",
    "    img = ct.capture_image(cam)\n",
    "\n",
    "    x, y = ct.locate(img)\n",
    "\n",
    "    print(x, y)\n",
    "    \n",
    "cam.release()"
   ]
  },
  {
   "cell_type": "markdown",
   "metadata": {},
   "source": [
    "To run code while the image is showing, you can use the following example. The class member variables can be manipulated in the `go(self, x, y, clickpoint)` function to save data. The `x` and `y` arguments are pixel coordinates of the largest green object and `clickpoint` contains the pixel coordinates of the last double-click on the image.\n",
    "\n",
    "The `go` function should return true to exit the camera loop."
   ]
  },
  {
   "cell_type": "code",
   "execution_count": null,
   "metadata": {},
   "outputs": [],
   "source": [
    "cam = ct.prepare_camera()\n",
    "\n",
    "class TestClass:\n",
    "    def __init__(self):\n",
    "        self.i = 0\n",
    "\n",
    "    @ct.camera_loop(cam, wait_time=1.0) # only runs the function every 0.5 second.\n",
    "    def go(self, x, y, clickpoint):\n",
    "        if self.i > 100:\n",
    "            return True\n",
    "        print(self.i, x, y)\n",
    "        self.i += 1\n",
    "        return False\n",
    "\n",
    "test = TestClass()\n",
    "test.go()"
   ]
  },
  {
   "cell_type": "markdown",
   "metadata": {},
   "source": [
    "The `ct.camera_loop` decorator fills in the `x`, `y` and `clickpoint` arguments to the `go` function at the specified interval `wait_time`."
   ]
  }
 ],
 "metadata": {
  "interpreter": {
   "hash": "1dea23a291e1df5152587f0351bf339f3cd967bb9fb3b38297ae232315060d8e"
  },
  "kernelspec": {
   "display_name": "Python [conda env:biocontrol] *",
   "language": "python",
   "name": "python3"
  },
  "language_info": {
   "codemirror_mode": {
    "name": "ipython",
    "version": 3
   },
   "file_extension": ".py",
   "mimetype": "text/x-python",
   "name": "python",
   "nbconvert_exporter": "python",
   "pygments_lexer": "ipython3",
   "version": "3.9.7"
  }
 },
 "nbformat": 4,
 "nbformat_minor": 2
}
