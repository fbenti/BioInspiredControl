{
 "cells": [
  {
   "cell_type": "markdown",
   "metadata": {},
   "source": [
    "# PyTorch MLP example"
   ]
  },
  {
   "cell_type": "markdown",
   "metadata": {},
   "source": [
    "In this notebook we will show an example of how to implement an MLP in PyTorch. Firstly, import PyTorch:"
   ]
  },
  {
   "cell_type": "code",
   "execution_count": null,
   "metadata": {},
   "outputs": [],
   "source": [
    "import torch"
   ]
  },
  {
   "cell_type": "markdown",
   "metadata": {},
   "source": [
    "Define the training data with `torch.tensor`. Most often you have to use `.float()` to avoid error messages when training."
   ]
  },
  {
   "cell_type": "code",
   "execution_count": null,
   "metadata": {},
   "outputs": [],
   "source": [
    "# Data for XOR\n",
    "x = torch.tensor([[0, 0],\n",
    "                  [0, 1],\n",
    "                  [1, 0],\n",
    "                  [1, 1]]).float()\n",
    "t = torch.tensor([[0],\n",
    "                  [1],\n",
    "                  [1],\n",
    "                  [0]]).float()"
   ]
  },
  {
   "cell_type": "markdown",
   "metadata": {},
   "source": [
    "A network structure is created by defining a class which extends the `torch.nn.Module` class. In the initialization, the layers should be defined. The linear layer is the one you are familiar with from previous exercises. It can be initialized with `torch.nn.Linear(n_inputs, n_units)`. Here, we create a network with a single hidden layer. The `forward` function defines how the forward propagation, that is how to compute the network output given the input and layers. PyTorch will automatically derive the gradients for backpropagation using this forward definition."
   ]
  },
  {
   "cell_type": "code",
   "execution_count": null,
   "metadata": {},
   "outputs": [],
   "source": [
    "# Define neural network\n",
    "class Net(torch.nn.Module):\n",
    "    def __init__(self, n_feature, n_hidden, n_output):\n",
    "        super(Net, self).__init__()\n",
    "        self.hidden = torch.nn.Linear(n_feature, n_hidden)\n",
    "        self.predict = torch.nn.Linear(n_hidden, n_output)\n",
    "\n",
    "    def forward(self, x):\n",
    "        x = torch.sigmoid(self.hidden(x))\n",
    "        x = self.predict(x)\n",
    "        return x"
   ]
  },
  {
   "cell_type": "markdown",
   "metadata": {},
   "source": [
    "Now we can instantiate our model using the class defined above:"
   ]
  },
  {
   "cell_type": "code",
   "execution_count": null,
   "metadata": {},
   "outputs": [],
   "source": [
    "model = Net(n_feature=2, n_hidden=4, n_output=1)"
   ]
  },
  {
   "cell_type": "markdown",
   "metadata": {},
   "source": [
    "We define the loss function to use, in this case the Mean Square Error (MSE)."
   ]
  },
  {
   "cell_type": "code",
   "execution_count": null,
   "metadata": {},
   "outputs": [],
   "source": [
    "loss_func = torch.nn.MSELoss()"
   ]
  },
  {
   "cell_type": "markdown",
   "metadata": {},
   "source": [
    "We also have to define the optimizer. We will use the stochastic gradient descent as in our own implementation, with learning rate 0.1."
   ]
  },
  {
   "cell_type": "code",
   "execution_count": null,
   "metadata": {},
   "outputs": [],
   "source": [
    "optimizer = torch.optim.SGD(model.parameters(), lr=0.1)"
   ]
  },
  {
   "cell_type": "markdown",
   "metadata": {},
   "source": [
    "Next we define a loop to train the network. This consists of 5 steps, each explained in the comments below:"
   ]
  },
  {
   "cell_type": "code",
   "execution_count": null,
   "metadata": {
    "scrolled": true
   },
   "outputs": [],
   "source": [
    "num_epochs = 100\n",
    "\n",
    "for _ in range(num_epochs):\n",
    "    prediction = model(x) # Forward pass prediction. Saves intermediary values required for backwards pass\n",
    "    loss = loss_func(prediction, t) # Computes the loss for each example, using the loss function defined above\n",
    "    optimizer.zero_grad() # Clears gradients from previous iteration\n",
    "    loss.backward() # Backpropagation of errors through the network\n",
    "    optimizer.step() # Updating weights\n",
    "\n",
    "    #print(\"Prediction: \", prediction.detach().numpy())\n",
    "    print(\"Loss: \", loss.detach().numpy())\n"
   ]
  },
  {
   "cell_type": "markdown",
   "metadata": {},
   "source": [
    "## Additional optimizer options\n",
    "For faster convergence, the Adam optimizer can be useful. It employs adaptive learning rates specific to each weight. In this exampe you can see that the loss decreases much faster when using Adam:"
   ]
  },
  {
   "cell_type": "code",
   "execution_count": null,
   "metadata": {},
   "outputs": [],
   "source": [
    "model = Net(n_feature=2, n_hidden=4, n_output=1)\n",
    "optimizer = torch.optim.Adam(model.parameters(), lr = 0.1)\n",
    "\n",
    "num_epochs = 100\n",
    "\n",
    "for _ in range(num_epochs):\n",
    "    prediction = model(x)\n",
    "    loss = loss_func(prediction, t)\n",
    "    optimizer.zero_grad()\n",
    "    loss.backward()\n",
    "    optimizer.step()\n",
    "\n",
    "    print(\"Loss: \", loss.detach().numpy())"
   ]
  },
  {
   "cell_type": "markdown",
   "metadata": {},
   "source": [
    "# Saving and loading models\n",
    "To save the model weights"
   ]
  },
  {
   "cell_type": "code",
   "execution_count": null,
   "metadata": {},
   "outputs": [],
   "source": [
    "torch.save(model.state_dict(), 'filename.pth')"
   ]
  },
  {
   "cell_type": "markdown",
   "metadata": {},
   "source": [
    "To load into a moedl:"
   ]
  },
  {
   "cell_type": "code",
   "execution_count": null,
   "metadata": {},
   "outputs": [],
   "source": [
    "model.load_state_dict(torch.load('filename.pth'))"
   ]
  },
  {
   "cell_type": "code",
   "execution_count": 2,
   "metadata": {},
   "outputs": [
    {
     "name": "stdout",
     "output_type": "stream",
     "text": [
      "[(-90, 0), (-75, 0), (-60, 0), (-45, 0), (-30, 0), (-15, 0), (0, 0), (15, 0), (30, 0), (45, 0), (60, 0), (75, 0), (90, 0), (90, -15), (75, -15), (60, -15), (45, -15), (30, -15), (15, -15), (0, -15), (-15, -15), (-30, -15), (-45, -15), (-60, -15), (-75, -15), (-90, -15), (-90, -30), (-75, -30), (-60, -30), (-45, -30), (-30, -30), (-15, -30), (0, -30), (15, -30), (30, -30), (45, -30), (60, -30), (75, -30), (90, -30), (90, -45), (75, -45), (60, -45), (45, -45), (30, -45), (15, -45), (0, -45), (-15, -45), (-30, -45), (-45, -45), (-60, -45), (-75, -45), (-90, -45), (-90, -60), (-75, -60), (-60, -60), (-45, -60), (-30, -60), (-15, -60), (0, -60), (15, -60), (30, -60), (45, -60), (60, -60), (75, -60), (90, -60), (90, -75), (75, -75), (60, -75), (45, -75), (30, -75), (15, -75), (0, -75), (-15, -75), (-30, -75), (-45, -75), (-60, -75), (-75, -75), (-90, -75), (-90, -90), (-75, -90), (-60, -90), (-45, -90), (-30, -90), (-15, -90), (0, -90), (15, -90), (30, -90), (45, -90), (60, -90), (75, -90), (90, -90)]\n",
      "[(76, 353), (75, 329), (84, 271), (110, 221), (150, 177), (208, 147), (274, 142), (342, 146), (414, 166), (466, 205), (510, 247), (543, 300), (560, 360), (556, 359), (554, 333), (528, 274), (488, 226), (438, 185), (372, 152), (304, 144), (236, 142), (176, 161), (126, 198), (90, 242), (72, 295), (68, 351), (67, 362), (67, 340), (73, 284), (101, 229), (146, 189), (205, 161), (272, 155), (338, 159), (404, 180), (460, 213), (502, 258), (533, 313), (543, 370), (520, 382), (521, 354), (499, 298), (462, 251), (416, 214), (356, 191), (298, 187), (236, 187), (175, 196), (129, 225), (96, 268), (79, 320), (77, 375), (99, 387), (102, 366), (105, 317), (124, 273), (160, 239), (210, 224), (270, 225), (322, 222), (374, 234), (414, 260), (448, 299), (474, 346), (484, 394), (447, 400), (445, 378), (427, 338), (400, 305), (366, 282), (326, 294), (290, 329), (252, 269), (204, 298), (169, 294), (147, 319), (140, 357), (148, 396), (182, 401), (180, 387), (176, 358), (186, 334), (206, 319), (234, 314), (270, 319), (297, 314), (322, 315), (347, 327), (370, 347), (390, 374), (397, 404)]\n"
     ]
    }
   ],
   "source": [
    "import pickle\n",
    "\n",
    "with open('motor_angles.pickle', 'rb') as data:\n",
    "    knownPos = pickle.load(data)\n",
    "print(knownPos)\n",
    "\n",
    "with open('xy_pixel.pickle', 'rb') as data:\n",
    "    xy_pixel = pickle.load(data)\n",
    "print(xy_pixel)"
   ]
  },
  {
   "cell_type": "code",
   "execution_count": null,
   "metadata": {},
   "outputs": [],
   "source": []
  }
 ],
 "metadata": {
  "kernelspec": {
   "display_name": "Python 3",
   "language": "python",
   "name": "python3"
  },
  "language_info": {
   "codemirror_mode": {
    "name": "ipython",
    "version": 3
   },
   "file_extension": ".py",
   "mimetype": "text/x-python",
   "name": "python",
   "nbconvert_exporter": "python",
   "pygments_lexer": "ipython3",
   "version": "3.9.7"
  }
 },
 "nbformat": 4,
 "nbformat_minor": 2
}
