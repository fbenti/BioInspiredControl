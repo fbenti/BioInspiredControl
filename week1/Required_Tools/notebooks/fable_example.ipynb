{
 "cells": [
  {
   "cell_type": "markdown",
   "metadata": {},
   "source": [
    "# Fable example\n",
    "## Moving the joints\n",
    "\n",
    "In this example, we will move the joints of a Fable module.\n",
    "\n",
    "\n",
    "### Setup\n",
    "Firstly, we import the Fable API package, and setup the connection to the USB dongle:"
   ]
  },
  {
   "cell_type": "code",
   "execution_count": 4,
   "metadata": {},
   "outputs": [
    {
     "name": "stdout",
     "output_type": "stream",
     "text": [
      "Dongle already connected\n",
      "setup done\n"
     ]
    },
    {
     "data": {
      "text/plain": [
       "True"
      ]
     },
     "execution_count": 4,
     "metadata": {},
     "output_type": "execute_result"
    }
   ],
   "source": [
    "from FableAPI.fable_init import api\n",
    "api.setup(blocking=True)"
   ]
  },
  {
   "cell_type": "markdown",
   "metadata": {},
   "source": [
    "### Discover modules\n",
    "Next, we will print a list of discovered modules:"
   ]
  },
  {
   "cell_type": "code",
   "execution_count": 5,
   "metadata": {
    "scrolled": true
   },
   "outputs": [
    {
     "name": "stdout",
     "output_type": "stream",
     "text": [
      "Module IDs:  ['BE7 ']\n",
      "Dongle not ready!  (<class 'OSError'>, OSError(5, 'Input/output error'), <traceback object at 0x7f389c97da80>)\n",
      "BE7 : Failed writing sync packet\n",
      "Dongle not ready!  (<class 'OSError'>, OSError(5, 'Input/output error'), <traceback object at 0x7f389e439fc0>)\n",
      "PORT: /dev/ttyACM1, NAME: Fable Joint 1.5, HWID: USB VID:PID=03EB:FABE LOCATION=1-2:1.0\n",
      "Trying to connect /dev/ttyACM1 Linux implementation - tested!\n",
      "dongle connect: True\n",
      "Joint...failure\n",
      "PORT: /dev/ttyACM1, NAME: Fable Joint 1.5, HWID: USB VID:PID=03EB:FABE LOCATION=1-2:1.0\n",
      "Trying to connect /dev/ttyACM1 Linux implementation - tested!\n",
      "dongle connect: True\n",
      "Joint...failure\n",
      "PORT: /dev/ttyACM1, NAME: Fable Joint 1.5, HWID: USB VID:PID=03EB:FABE LOCATION=1-2:1.0\n",
      "Trying to connect /dev/ttyACM1 Linux implementation - tested!\n",
      "dongle connect: True\n",
      "Joint...failure\n",
      "PORT: /dev/ttyACM0, NAME: Fable Dongle 1.5, HWID: USB VID:PID=03EB:FABE LOCATION=1-1:1.0\n",
      "Trying to connect /dev/ttyACM0 Linux implementation - tested!\n",
      "dongle connect: True\n",
      "Dongle...success\n",
      "Dongle not ready!  (<class 'OSError'>, OSError(5, 'Input/output error'), <traceback object at 0x7f389e43f040>)\n",
      "BE7 : Failed writing sync packet\n",
      "Dongle not ready!  (<class 'OSError'>, OSError(5, 'Input/output error'), <traceback object at 0x7f389e65eb40>)\n",
      "PORT: /dev/ttyACM1, NAME: Fable Joint 1.5, HWID: USB VID:PID=03EB:FABE LOCATION=1-2:1.0\n",
      "Trying to connect /dev/ttyACM1 Linux implementation - tested!\n",
      "dongle connect: True\n",
      "Joint...failure\n",
      "PORT: /dev/ttyACM1, NAME: Fable Joint 1.5, HWID: USB VID:PID=03EB:FABE LOCATION=1-2:1.0\n",
      "Trying to connect /dev/ttyACM1 Linux implementation - tested!\n",
      "dongle connect: True\n",
      "Joint...failure\n",
      "PORT: /dev/ttyACM1, NAME: Fable Joint 1.5, HWID: USB VID:PID=03EB:FABE LOCATION=1-2:1.0\n",
      "Trying to connect /dev/ttyACM1 Linux implementation - tested!\n",
      "dongle connect: True\n",
      "Joint...failure\n",
      "PORT: /dev/ttyACM1, NAME: Fable Joint 1.5, HWID: USB VID:PID=03EB:FABE LOCATION=1-2:1.0\n",
      "Trying to connect /dev/ttyACM1 Linux implementation - tested!\n",
      "dongle connect: True\n",
      "Joint...failure\n",
      "PORT: /dev/ttyACM1, NAME: Fable Joint 1.5, HWID: USB VID:PID=03EB:FABE LOCATION=1-2:1.0\n",
      "Trying to connect /dev/ttyACM1 Linux implementation - tested!\n",
      "dongle connect: True\n",
      "Joint...failure\n",
      "PORT: /dev/ttyACM1, NAME: Fable Joint 1.5, HWID: USB VID:PID=03EB:FABE LOCATION=1-2:1.0\n",
      "Trying to connect /dev/ttyACM1 Linux implementation - tested!\n",
      "dongle connect: True\n",
      "Joint...failure\n",
      "PORT: /dev/ttyACM1, NAME: Fable Joint 1.5, HWID: USB VID:PID=03EB:FABE LOCATION=1-2:1.0\n",
      "Trying to connect /dev/ttyACM1 Linux implementation - tested!\n",
      "dongle connect: True\n",
      "Joint...failure\n",
      "PORT: /dev/ttyACM1, NAME: Fable Joint 1.5, HWID: USB VID:PID=03EB:FABE LOCATION=1-2:1.0\n",
      "Trying to connect /dev/ttyACM1 Linux implementation - tested!\n",
      "dongle connect: True\n",
      "Joint...failure\n",
      "PORT: /dev/ttyACM1, NAME: Fable Joint 1.5, HWID: USB VID:PID=03EB:FABE LOCATION=1-2:1.0\n",
      "Trying to connect /dev/ttyACM1 Linux implementation - tested!\n",
      "dongle connect: True\n",
      "Joint...failure\n",
      "PORT: /dev/ttyACM1, NAME: Fable Joint 1.5, HWID: USB VID:PID=03EB:FABE LOCATION=1-2:1.0\n",
      "Trying to connect /dev/ttyACM1 Linux implementation - tested!\n",
      "dongle connect: True\n",
      "Joint...failure\n",
      "PORT: /dev/ttyACM1, NAME: Fable Joint 1.5, HWID: USB VID:PID=03EB:FABE LOCATION=1-2:1.0\n",
      "Trying to connect /dev/ttyACM1 Linux implementation - tested!\n",
      "dongle connect: True\n",
      "Joint...failure\n",
      "PORT: /dev/ttyACM1, NAME: Fable Joint 1.5, HWID: USB VID:PID=03EB:FABE LOCATION=1-2:1.0\n",
      "Trying to connect /dev/ttyACM1 Linux implementation - tested!\n",
      "dongle connect: True\n",
      "Joint...failure\n",
      "PORT: /dev/ttyACM1, NAME: Fable Joint 1.5, HWID: USB VID:PID=03EB:FABE LOCATION=1-2:1.0\n",
      "Trying to connect /dev/ttyACM1 Linux implementation - tested!\n",
      "dongle connect: True\n",
      "Joint...failure\n",
      "PORT: /dev/ttyACM0, NAME: Fable Dongle 1.5, HWID: USB VID:PID=03EB:FABE LOCATION=1-1:1.0\n",
      "Trying to connect /dev/ttyACM0 Linux implementation - tested!\n",
      "dongle connect: False\n",
      "...failure\n",
      "PORT: /dev/ttyACM1, NAME: Fable Joint 1.5, HWID: USB VID:PID=03EB:FABE LOCATION=1-2:1.0\n",
      "Trying to connect /dev/ttyACM1 Linux implementation - tested!\n",
      "dongle connect: True\n",
      "Joint...failure\n",
      "PORT: /dev/ttyACM0, NAME: Fable Dongle 1.5, HWID: USB VID:PID=03EB:FABE LOCATION=1-1:1.0\n",
      "Trying to connect /dev/ttyACM0 Linux implementation - tested!\n",
      "dongle connect: True\n",
      "Dongle...success\n",
      "Help!!!, throw away= b'#\\x03\\x03\\xb5\\x00'\n",
      "Exception in runtime thread!  (<class 'serial.serialutil.SerialException'>, SerialException('device reports readiness to read but returned no data (device disconnected or multiple access on port?)'), <traceback object at 0x7f38c048eb40>)\n",
      "Traceback (most recent call last):\n",
      "  File \"/home/filippo/anaconda3/envs/biocontrol/lib/python3.9/site-packages/FableAPI/runtime.py\", line 30, in run\n",
      "    self.sync()\n",
      "  File \"/home/filippo/anaconda3/envs/biocontrol/lib/python3.9/site-packages/FableAPI/runtime.py\", line 168, in sync\n",
      "    success = m.sync()\n",
      "  File \"/home/filippo/anaconda3/envs/biocontrol/lib/python3.9/site-packages/FableAPI/jointManager.py\", line 164, in sync\n",
      "    res, packet = self.sendSyncMessage(headerData, writeData, readData)\n",
      "  File \"/home/filippo/anaconda3/envs/biocontrol/lib/python3.9/site-packages/FableAPI/jointManager.py\", line 247, in sendSyncMessage\n",
      "    res = self.dongle.writeRadioPacket(radioPacket)\n",
      "  File \"/home/filippo/anaconda3/envs/biocontrol/lib/python3.9/site-packages/FableAPI/dongle.py\", line 378, in writeRadioPacket\n",
      "    reply = self.ser.read(1)\n",
      "  File \"/home/filippo/anaconda3/envs/biocontrol/lib/python3.9/site-packages/serial/serialposix.py\", line 595, in read\n",
      "    raise SerialException(\n",
      "serial.serialutil.SerialException: device reports readiness to read but returned no data (device disconnected or multiple access on port?)\n"
     ]
    }
   ],
   "source": [
    "moduleids = api.discoverModules()\n",
    "print(\"Module IDs: \", moduleids)"
   ]
  },
  {
   "cell_type": "markdown",
   "metadata": {},
   "source": [
    "### Move\n",
    "We can move the joints with the `setPos(posX, posY, moduleID)` command.\n",
    "\n",
    "The arguments are:\n",
    "\n",
    "`posX`: X motor angle (degrees)\n",
    "\n",
    "`posY`: Y motor angle (degrees)\n",
    "\n",
    "`moduleID`: The module ID. You can use `moduleids[0]` to use the first discovered module."
   ]
  },
  {
   "cell_type": "code",
   "execution_count": null,
   "metadata": {},
   "outputs": [],
   "source": [
    "moduleID = moduleids[0]\n",
    "api.setPos(0, 0, moduleID)"
   ]
  },
  {
   "cell_type": "markdown",
   "metadata": {},
   "source": [
    "### Changing the reference\n",
    "We can try to make the joints follow a changing reference angle, using a for loop:"
   ]
  },
  {
   "cell_type": "code",
   "execution_count": null,
   "metadata": {},
   "outputs": [],
   "source": [
    "for i in range(10):\n",
    "    api.setPos(i*10, 0, moduleID)"
   ]
  },
  {
   "cell_type": "markdown",
   "metadata": {},
   "source": [
    "What happened? All of the commands were sent immediately, giving the module no time to react.\n",
    "\n",
    "To not send all commands at once, we can wait in between commands. How much time is required? Try different sleep durations\n"
   ]
  },
  {
   "cell_type": "code",
   "execution_count": null,
   "metadata": {},
   "outputs": [],
   "source": [
    "for i in range(10):\n",
    "    api.setPos(i*10, 0, moduleID)\n",
    "    api.sleep(2)"
   ]
  }
 ],
 "metadata": {
  "kernelspec": {
   "display_name": "Python 3",
   "language": "python",
   "name": "python3"
  },
  "language_info": {
   "codemirror_mode": {
    "name": "ipython",
    "version": 3
   },
   "file_extension": ".py",
   "mimetype": "text/x-python",
   "name": "python",
   "nbconvert_exporter": "python",
   "pygments_lexer": "ipython3",
   "version": "3.9.7"
  }
 },
 "nbformat": 4,
 "nbformat_minor": 2
}
